{
 "cells": [
  {
   "cell_type": "code",
   "execution_count": 5,
   "id": "bbadcacc",
   "metadata": {},
   "outputs": [],
   "source": [
    "import numpy as np\n",
    "import pandas as pd\n",
    "import matplotlib.pyplot as plt\n",
    "import pandas_datareader as data\n",
    "from datetime import date"
   ]
  },
  {
   "cell_type": "code",
   "execution_count": 7,
   "id": "b43fc145",
   "metadata": {},
   "outputs": [
    {
     "data": {
      "text/html": [
       "<div>\n",
       "<style scoped>\n",
       "    .dataframe tbody tr th:only-of-type {\n",
       "        vertical-align: middle;\n",
       "    }\n",
       "\n",
       "    .dataframe tbody tr th {\n",
       "        vertical-align: top;\n",
       "    }\n",
       "\n",
       "    .dataframe thead th {\n",
       "        text-align: right;\n",
       "    }\n",
       "</style>\n",
       "<table border=\"1\" class=\"dataframe\">\n",
       "  <thead>\n",
       "    <tr style=\"text-align: right;\">\n",
       "      <th></th>\n",
       "      <th>High</th>\n",
       "      <th>Low</th>\n",
       "      <th>Open</th>\n",
       "      <th>Close</th>\n",
       "      <th>Volume</th>\n",
       "      <th>Adj Close</th>\n",
       "    </tr>\n",
       "    <tr>\n",
       "      <th>Date</th>\n",
       "      <th></th>\n",
       "      <th></th>\n",
       "      <th></th>\n",
       "      <th></th>\n",
       "      <th></th>\n",
       "      <th></th>\n",
       "    </tr>\n",
       "  </thead>\n",
       "  <tbody>\n",
       "    <tr>\n",
       "      <th>2010-01-04</th>\n",
       "      <td>7.660714</td>\n",
       "      <td>7.585000</td>\n",
       "      <td>7.622500</td>\n",
       "      <td>7.643214</td>\n",
       "      <td>493729600.0</td>\n",
       "      <td>6.535086</td>\n",
       "    </tr>\n",
       "    <tr>\n",
       "      <th>2010-01-05</th>\n",
       "      <td>7.699643</td>\n",
       "      <td>7.616071</td>\n",
       "      <td>7.664286</td>\n",
       "      <td>7.656429</td>\n",
       "      <td>601904800.0</td>\n",
       "      <td>6.546384</td>\n",
       "    </tr>\n",
       "    <tr>\n",
       "      <th>2010-01-06</th>\n",
       "      <td>7.686786</td>\n",
       "      <td>7.526786</td>\n",
       "      <td>7.656429</td>\n",
       "      <td>7.534643</td>\n",
       "      <td>552160000.0</td>\n",
       "      <td>6.442255</td>\n",
       "    </tr>\n",
       "    <tr>\n",
       "      <th>2010-01-07</th>\n",
       "      <td>7.571429</td>\n",
       "      <td>7.466071</td>\n",
       "      <td>7.562500</td>\n",
       "      <td>7.520714</td>\n",
       "      <td>477131200.0</td>\n",
       "      <td>6.430345</td>\n",
       "    </tr>\n",
       "    <tr>\n",
       "      <th>2010-01-08</th>\n",
       "      <td>7.571429</td>\n",
       "      <td>7.466429</td>\n",
       "      <td>7.510714</td>\n",
       "      <td>7.570714</td>\n",
       "      <td>447610800.0</td>\n",
       "      <td>6.473096</td>\n",
       "    </tr>\n",
       "  </tbody>\n",
       "</table>\n",
       "</div>"
      ],
      "text/plain": [
       "                High       Low      Open     Close       Volume  Adj Close\n",
       "Date                                                                      \n",
       "2010-01-04  7.660714  7.585000  7.622500  7.643214  493729600.0   6.535086\n",
       "2010-01-05  7.699643  7.616071  7.664286  7.656429  601904800.0   6.546384\n",
       "2010-01-06  7.686786  7.526786  7.656429  7.534643  552160000.0   6.442255\n",
       "2010-01-07  7.571429  7.466071  7.562500  7.520714  477131200.0   6.430345\n",
       "2010-01-08  7.571429  7.466429  7.510714  7.570714  447610800.0   6.473096"
      ]
     },
     "execution_count": 7,
     "metadata": {},
     "output_type": "execute_result"
    }
   ],
   "source": [
    "start='2010-01-01'\n",
    "end = date.today().strftime(\"%Y-%m-%d\")\n",
    "df=data.DataReader('AAPL','yahoo',start,end)\n",
    "df.head()"
   ]
  },
  {
   "cell_type": "code",
   "execution_count": 8,
   "id": "16fae45c",
   "metadata": {},
   "outputs": [
    {
     "data": {
      "text/html": [
       "<div>\n",
       "<style scoped>\n",
       "    .dataframe tbody tr th:only-of-type {\n",
       "        vertical-align: middle;\n",
       "    }\n",
       "\n",
       "    .dataframe tbody tr th {\n",
       "        vertical-align: top;\n",
       "    }\n",
       "\n",
       "    .dataframe thead th {\n",
       "        text-align: right;\n",
       "    }\n",
       "</style>\n",
       "<table border=\"1\" class=\"dataframe\">\n",
       "  <thead>\n",
       "    <tr style=\"text-align: right;\">\n",
       "      <th></th>\n",
       "      <th>High</th>\n",
       "      <th>Low</th>\n",
       "      <th>Open</th>\n",
       "      <th>Close</th>\n",
       "      <th>Volume</th>\n",
       "      <th>Adj Close</th>\n",
       "    </tr>\n",
       "    <tr>\n",
       "      <th>Date</th>\n",
       "      <th></th>\n",
       "      <th></th>\n",
       "      <th></th>\n",
       "      <th></th>\n",
       "      <th></th>\n",
       "      <th></th>\n",
       "    </tr>\n",
       "  </thead>\n",
       "  <tbody>\n",
       "    <tr>\n",
       "      <th>2022-06-30</th>\n",
       "      <td>138.369995</td>\n",
       "      <td>133.770004</td>\n",
       "      <td>137.250000</td>\n",
       "      <td>136.720001</td>\n",
       "      <td>98964500.0</td>\n",
       "      <td>136.720001</td>\n",
       "    </tr>\n",
       "    <tr>\n",
       "      <th>2022-07-01</th>\n",
       "      <td>139.039993</td>\n",
       "      <td>135.660004</td>\n",
       "      <td>136.039993</td>\n",
       "      <td>138.929993</td>\n",
       "      <td>71007500.0</td>\n",
       "      <td>138.929993</td>\n",
       "    </tr>\n",
       "    <tr>\n",
       "      <th>2022-07-05</th>\n",
       "      <td>141.610001</td>\n",
       "      <td>136.929993</td>\n",
       "      <td>137.770004</td>\n",
       "      <td>141.559998</td>\n",
       "      <td>73353800.0</td>\n",
       "      <td>141.559998</td>\n",
       "    </tr>\n",
       "    <tr>\n",
       "      <th>2022-07-06</th>\n",
       "      <td>144.119995</td>\n",
       "      <td>141.080002</td>\n",
       "      <td>141.350006</td>\n",
       "      <td>142.919998</td>\n",
       "      <td>73972200.0</td>\n",
       "      <td>142.919998</td>\n",
       "    </tr>\n",
       "    <tr>\n",
       "      <th>2022-07-07</th>\n",
       "      <td>145.350006</td>\n",
       "      <td>143.300003</td>\n",
       "      <td>143.289993</td>\n",
       "      <td>145.320007</td>\n",
       "      <td>10513664.0</td>\n",
       "      <td>145.320007</td>\n",
       "    </tr>\n",
       "  </tbody>\n",
       "</table>\n",
       "</div>"
      ],
      "text/plain": [
       "                  High         Low        Open       Close      Volume  \\\n",
       "Date                                                                     \n",
       "2022-06-30  138.369995  133.770004  137.250000  136.720001  98964500.0   \n",
       "2022-07-01  139.039993  135.660004  136.039993  138.929993  71007500.0   \n",
       "2022-07-05  141.610001  136.929993  137.770004  141.559998  73353800.0   \n",
       "2022-07-06  144.119995  141.080002  141.350006  142.919998  73972200.0   \n",
       "2022-07-07  145.350006  143.300003  143.289993  145.320007  10513664.0   \n",
       "\n",
       "             Adj Close  \n",
       "Date                    \n",
       "2022-06-30  136.720001  \n",
       "2022-07-01  138.929993  \n",
       "2022-07-05  141.559998  \n",
       "2022-07-06  142.919998  \n",
       "2022-07-07  145.320007  "
      ]
     },
     "execution_count": 8,
     "metadata": {},
     "output_type": "execute_result"
    }
   ],
   "source": [
    "df.tail()"
   ]
  },
  {
   "cell_type": "code",
   "execution_count": 9,
   "id": "8f225dbd",
   "metadata": {},
   "outputs": [
    {
     "data": {
      "text/html": [
       "<div>\n",
       "<style scoped>\n",
       "    .dataframe tbody tr th:only-of-type {\n",
       "        vertical-align: middle;\n",
       "    }\n",
       "\n",
       "    .dataframe tbody tr th {\n",
       "        vertical-align: top;\n",
       "    }\n",
       "\n",
       "    .dataframe thead th {\n",
       "        text-align: right;\n",
       "    }\n",
       "</style>\n",
       "<table border=\"1\" class=\"dataframe\">\n",
       "  <thead>\n",
       "    <tr style=\"text-align: right;\">\n",
       "      <th></th>\n",
       "      <th>Date</th>\n",
       "      <th>High</th>\n",
       "      <th>Low</th>\n",
       "      <th>Open</th>\n",
       "      <th>Close</th>\n",
       "      <th>Volume</th>\n",
       "      <th>Adj Close</th>\n",
       "    </tr>\n",
       "  </thead>\n",
       "  <tbody>\n",
       "    <tr>\n",
       "      <th>0</th>\n",
       "      <td>2010-01-04</td>\n",
       "      <td>7.660714</td>\n",
       "      <td>7.585000</td>\n",
       "      <td>7.622500</td>\n",
       "      <td>7.643214</td>\n",
       "      <td>493729600.0</td>\n",
       "      <td>6.535086</td>\n",
       "    </tr>\n",
       "    <tr>\n",
       "      <th>1</th>\n",
       "      <td>2010-01-05</td>\n",
       "      <td>7.699643</td>\n",
       "      <td>7.616071</td>\n",
       "      <td>7.664286</td>\n",
       "      <td>7.656429</td>\n",
       "      <td>601904800.0</td>\n",
       "      <td>6.546384</td>\n",
       "    </tr>\n",
       "    <tr>\n",
       "      <th>2</th>\n",
       "      <td>2010-01-06</td>\n",
       "      <td>7.686786</td>\n",
       "      <td>7.526786</td>\n",
       "      <td>7.656429</td>\n",
       "      <td>7.534643</td>\n",
       "      <td>552160000.0</td>\n",
       "      <td>6.442255</td>\n",
       "    </tr>\n",
       "    <tr>\n",
       "      <th>3</th>\n",
       "      <td>2010-01-07</td>\n",
       "      <td>7.571429</td>\n",
       "      <td>7.466071</td>\n",
       "      <td>7.562500</td>\n",
       "      <td>7.520714</td>\n",
       "      <td>477131200.0</td>\n",
       "      <td>6.430345</td>\n",
       "    </tr>\n",
       "    <tr>\n",
       "      <th>4</th>\n",
       "      <td>2010-01-08</td>\n",
       "      <td>7.571429</td>\n",
       "      <td>7.466429</td>\n",
       "      <td>7.510714</td>\n",
       "      <td>7.570714</td>\n",
       "      <td>447610800.0</td>\n",
       "      <td>6.473096</td>\n",
       "    </tr>\n",
       "  </tbody>\n",
       "</table>\n",
       "</div>"
      ],
      "text/plain": [
       "        Date      High       Low      Open     Close       Volume  Adj Close\n",
       "0 2010-01-04  7.660714  7.585000  7.622500  7.643214  493729600.0   6.535086\n",
       "1 2010-01-05  7.699643  7.616071  7.664286  7.656429  601904800.0   6.546384\n",
       "2 2010-01-06  7.686786  7.526786  7.656429  7.534643  552160000.0   6.442255\n",
       "3 2010-01-07  7.571429  7.466071  7.562500  7.520714  477131200.0   6.430345\n",
       "4 2010-01-08  7.571429  7.466429  7.510714  7.570714  447610800.0   6.473096"
      ]
     },
     "execution_count": 9,
     "metadata": {},
     "output_type": "execute_result"
    }
   ],
   "source": [
    "df=df.reset_index()\n",
    "df.head()"
   ]
  },
  {
   "cell_type": "code",
   "execution_count": 10,
   "id": "5b44906b",
   "metadata": {},
   "outputs": [
    {
     "data": {
      "text/html": [
       "<div>\n",
       "<style scoped>\n",
       "    .dataframe tbody tr th:only-of-type {\n",
       "        vertical-align: middle;\n",
       "    }\n",
       "\n",
       "    .dataframe tbody tr th {\n",
       "        vertical-align: top;\n",
       "    }\n",
       "\n",
       "    .dataframe thead th {\n",
       "        text-align: right;\n",
       "    }\n",
       "</style>\n",
       "<table border=\"1\" class=\"dataframe\">\n",
       "  <thead>\n",
       "    <tr style=\"text-align: right;\">\n",
       "      <th></th>\n",
       "      <th>High</th>\n",
       "      <th>Low</th>\n",
       "      <th>Open</th>\n",
       "      <th>Close</th>\n",
       "      <th>Volume</th>\n",
       "    </tr>\n",
       "  </thead>\n",
       "  <tbody>\n",
       "    <tr>\n",
       "      <th>0</th>\n",
       "      <td>7.660714</td>\n",
       "      <td>7.585000</td>\n",
       "      <td>7.622500</td>\n",
       "      <td>7.643214</td>\n",
       "      <td>493729600.0</td>\n",
       "    </tr>\n",
       "    <tr>\n",
       "      <th>1</th>\n",
       "      <td>7.699643</td>\n",
       "      <td>7.616071</td>\n",
       "      <td>7.664286</td>\n",
       "      <td>7.656429</td>\n",
       "      <td>601904800.0</td>\n",
       "    </tr>\n",
       "    <tr>\n",
       "      <th>2</th>\n",
       "      <td>7.686786</td>\n",
       "      <td>7.526786</td>\n",
       "      <td>7.656429</td>\n",
       "      <td>7.534643</td>\n",
       "      <td>552160000.0</td>\n",
       "    </tr>\n",
       "    <tr>\n",
       "      <th>3</th>\n",
       "      <td>7.571429</td>\n",
       "      <td>7.466071</td>\n",
       "      <td>7.562500</td>\n",
       "      <td>7.520714</td>\n",
       "      <td>477131200.0</td>\n",
       "    </tr>\n",
       "    <tr>\n",
       "      <th>4</th>\n",
       "      <td>7.571429</td>\n",
       "      <td>7.466429</td>\n",
       "      <td>7.510714</td>\n",
       "      <td>7.570714</td>\n",
       "      <td>447610800.0</td>\n",
       "    </tr>\n",
       "  </tbody>\n",
       "</table>\n",
       "</div>"
      ],
      "text/plain": [
       "       High       Low      Open     Close       Volume\n",
       "0  7.660714  7.585000  7.622500  7.643214  493729600.0\n",
       "1  7.699643  7.616071  7.664286  7.656429  601904800.0\n",
       "2  7.686786  7.526786  7.656429  7.534643  552160000.0\n",
       "3  7.571429  7.466071  7.562500  7.520714  477131200.0\n",
       "4  7.571429  7.466429  7.510714  7.570714  447610800.0"
      ]
     },
     "execution_count": 10,
     "metadata": {},
     "output_type": "execute_result"
    }
   ],
   "source": [
    "df= df.drop(['Date','Adj Close'],axis=1)\n",
    "df.head()"
   ]
  },
  {
   "cell_type": "code",
   "execution_count": 11,
   "id": "758ae537",
   "metadata": {},
   "outputs": [
    {
     "data": {
      "text/plain": [
       "[<matplotlib.lines.Line2D at 0x89bf334460>]"
      ]
     },
     "execution_count": 11,
     "metadata": {},
     "output_type": "execute_result"
    },
    {
     "data": {
      "image/png": "[encoded data removed]",
      "text/plain": [
       "<Figure size 432x288 with 1 Axes>"
      ]
     },
     "metadata": {
      "needs_background": "light"
     },
     "output_type": "display_data"
    }
   ],
   "source": [
    "plt.plot(df.Close)"
   ]
  },
  {
   "cell_type": "code",
   "execution_count": 12,
   "id": "d7711d3e",
   "metadata": {},
   "outputs": [
    {
     "data": {
      "text/html": [
       "<div>\n",
       "<style scoped>\n",
       "    .dataframe tbody tr th:only-of-type {\n",
       "        vertical-align: middle;\n",
       "    }\n",
       "\n",
       "    .dataframe tbody tr th {\n",
       "        vertical-align: top;\n",
       "    }\n",
       "\n",
       "    .dataframe thead th {\n",
       "        text-align: right;\n",
       "    }\n",
       "</style>\n",
       "<table border=\"1\" class=\"dataframe\">\n",
       "  <thead>\n",
       "    <tr style=\"text-align: right;\">\n",
       "      <th></th>\n",
       "      <th>High</th>\n",
       "      <th>Low</th>\n",
       "      <th>Open</th>\n",
       "      <th>Close</th>\n",
       "      <th>Volume</th>\n",
       "    </tr>\n",
       "  </thead>\n",
       "  <tbody>\n",
       "    <tr>\n",
       "      <th>0</th>\n",
       "      <td>7.660714</td>\n",
       "      <td>7.585000</td>\n",
       "      <td>7.622500</td>\n",
       "      <td>7.643214</td>\n",
       "      <td>493729600.0</td>\n",
       "    </tr>\n",
       "    <tr>\n",
       "      <th>1</th>\n",
       "      <td>7.699643</td>\n",
       "      <td>7.616071</td>\n",
       "      <td>7.664286</td>\n",
       "      <td>7.656429</td>\n",
       "      <td>601904800.0</td>\n",
       "    </tr>\n",
       "    <tr>\n",
       "      <th>2</th>\n",
       "      <td>7.686786</td>\n",
       "      <td>7.526786</td>\n",
       "      <td>7.656429</td>\n",
       "      <td>7.534643</td>\n",
       "      <td>552160000.0</td>\n",
       "    </tr>\n",
       "    <tr>\n",
       "      <th>3</th>\n",
       "      <td>7.571429</td>\n",
       "      <td>7.466071</td>\n",
       "      <td>7.562500</td>\n",
       "      <td>7.520714</td>\n",
       "      <td>477131200.0</td>\n",
       "    </tr>\n",
       "    <tr>\n",
       "      <th>4</th>\n",
       "      <td>7.571429</td>\n",
       "      <td>7.466429</td>\n",
       "      <td>7.510714</td>\n",
       "      <td>7.570714</td>\n",
       "      <td>447610800.0</td>\n",
       "    </tr>\n",
       "    <tr>\n",
       "      <th>...</th>\n",
       "      <td>...</td>\n",
       "      <td>...</td>\n",
       "      <td>...</td>\n",
       "      <td>...</td>\n",
       "      <td>...</td>\n",
       "    </tr>\n",
       "    <tr>\n",
       "      <th>3144</th>\n",
       "      <td>138.369995</td>\n",
       "      <td>133.770004</td>\n",
       "      <td>137.250000</td>\n",
       "      <td>136.720001</td>\n",
       "      <td>98964500.0</td>\n",
       "    </tr>\n",
       "    <tr>\n",
       "      <th>3145</th>\n",
       "      <td>139.039993</td>\n",
       "      <td>135.660004</td>\n",
       "      <td>136.039993</td>\n",
       "      <td>138.929993</td>\n",
       "      <td>71007500.0</td>\n",
       "    </tr>\n",
       "    <tr>\n",
       "      <th>3146</th>\n",
       "      <td>141.610001</td>\n",
       "      <td>136.929993</td>\n",
       "      <td>137.770004</td>\n",
       "      <td>141.559998</td>\n",
       "      <td>73353800.0</td>\n",
       "    </tr>\n",
       "    <tr>\n",
       "      <th>3147</th>\n",
       "      <td>144.119995</td>\n",
       "      <td>141.080002</td>\n",
       "      <td>141.350006</td>\n",
       "      <td>142.919998</td>\n",
       "      <td>73972200.0</td>\n",
       "    </tr>\n",
       "    <tr>\n",
       "      <th>3148</th>\n",
       "      <td>145.350006</td>\n",
       "      <td>143.300003</td>\n",
       "      <td>143.289993</td>\n",
       "      <td>145.320007</td>\n",
       "      <td>10513664.0</td>\n",
       "    </tr>\n",
       "  </tbody>\n",
       "</table>\n",
       "<p>3149 rows × 5 columns</p>\n",
       "</div>"
      ],
      "text/plain": [
       "            High         Low        Open       Close       Volume\n",
       "0       7.660714    7.585000    7.622500    7.643214  493729600.0\n",
       "1       7.699643    7.616071    7.664286    7.656429  601904800.0\n",
       "2       7.686786    7.526786    7.656429    7.534643  552160000.0\n",
       "3       7.571429    7.466071    7.562500    7.520714  477131200.0\n",
       "4       7.571429    7.466429    7.510714    7.570714  447610800.0\n",
       "...          ...         ...         ...         ...          ...\n",
       "3144  138.369995  133.770004  137.250000  136.720001   98964500.0\n",
       "3145  139.039993  135.660004  136.039993  138.929993   71007500.0\n",
       "3146  141.610001  136.929993  137.770004  141.559998   73353800.0\n",
       "3147  144.119995  141.080002  141.350006  142.919998   73972200.0\n",
       "3148  145.350006  143.300003  143.289993  145.320007   10513664.0\n",
       "\n",
       "[3149 rows x 5 columns]"
      ]
     },
     "execution_count": 12,
     "metadata": {},
     "output_type": "execute_result"
    }
   ],
   "source": [
    "df"
   ]
  },
  {
   "cell_type": "code",
   "execution_count": 13,
   "id": "78385cf8",
   "metadata": {},
   "outputs": [
    {
     "data": {
      "text/plain": [
       "0              NaN\n",
       "1              NaN\n",
       "2              NaN\n",
       "3              NaN\n",
       "4              NaN\n",
       "           ...    \n",
       "3144    157.224001\n",
       "3145    156.896701\n",
       "3146    156.564001\n",
       "3147    156.230401\n",
       "3148    155.962401\n",
       "Name: Close, Length: 3149, dtype: float64"
      ]
     },
     "execution_count": 13,
     "metadata": {},
     "output_type": "execute_result"
    }
   ],
   "source": [
    "ma100 = df.Close.rolling(100).mean()\n",
    "ma100"
   ]
  },
  {
   "cell_type": "code",
   "execution_count": 14,
   "id": "c2875933",
   "metadata": {},
   "outputs": [
    {
     "data": {
      "text/plain": [
       "[<matplotlib.lines.Line2D at 0x89bf049cc0>]"
      ]
     },
     "execution_count": 14,
     "metadata": {},
     "output_type": "execute_result"
    },
    {
     "data": {
      "image/png": "[encoded data removed]",
      "text/plain": [
       "<Figure size 864x432 with 1 Axes>"
      ]
     },
     "metadata": {
      "needs_background": "light"
     },
     "output_type": "display_data"
    }
   ],
   "source": [
    "plt.figure(figsize=(12,6))\n",
    "plt.plot(df.Close)\n",
    "plt.plot(ma100,'r')"
   ]
  },
  {
   "cell_type": "code",
   "execution_count": 15,
   "id": "ac25a7ad",
   "metadata": {},
   "outputs": [
    {
     "data": {
      "text/plain": [
       "0             NaN\n",
       "1             NaN\n",
       "2             NaN\n",
       "3             NaN\n",
       "4             NaN\n",
       "          ...    \n",
       "3144    158.35600\n",
       "3145    158.30550\n",
       "3146    158.26935\n",
       "3147    158.25365\n",
       "3148    158.26555\n",
       "Name: Close, Length: 3149, dtype: float64"
      ]
     },
     "execution_count": 15,
     "metadata": {},
     "output_type": "execute_result"
    }
   ],
   "source": [
    "ma200 = df.Close.rolling(200).mean()\n",
    "ma200"
   ]
  },
  {
   "cell_type": "code",
   "execution_count": 16,
   "id": "5ff68dc7",
   "metadata": {},
   "outputs": [
    {
     "data": {
      "text/plain": [
       "[<matplotlib.lines.Line2D at 0x89bf046b60>]"
      ]
     },
     "execution_count": 16,
     "metadata": {},
     "output_type": "execute_result"
    },
    {
     "data": {
      "image/png": "[encoded data removed]",
      "text/plain": [
       "<Figure size 864x432 with 1 Axes>"
      ]
     },
     "metadata": {
      "needs_background": "light"
     },
     "output_type": "display_data"
    }
   ],
   "source": [
    "plt.figure(figsize=(12,6))\n",
    "plt.plot(df.Close)\n",
    "plt.plot(ma100,'r')\n",
    "plt.plot(ma200,'g')"
   ]
  },
  {
   "cell_type": "code",
   "execution_count": 17,
   "id": "8bca1e01",
   "metadata": {},
   "outputs": [
    {
     "data": {
      "text/plain": [
       "(3149, 5)"
      ]
     },
     "execution_count": 17,
     "metadata": {},
     "output_type": "execute_result"
    }
   ],
   "source": [
    "df.shape"
   ]
  },
  {
   "cell_type": "code",
   "execution_count": 18,
   "id": "061e07eb",
   "metadata": {},
   "outputs": [
    {
     "name": "stdout",
     "output_type": "stream",
     "text": [
      "(2204, 1)\n",
      "(945, 1)\n"
     ]
    }
   ],
   "source": [
    "#Splitting Data into Training and Testing\n",
    "\n",
    "data_training = pd.DataFrame(df['Close'][0:int(len(df)*0.70)])\n",
    "data_testing = pd.DataFrame(df['Close'][int(len(df)*0.70):int(len(df))])\n",
    "print(data_training.shape)\n",
    "print(data_testing.shape)"
   ]
  },
  {
   "cell_type": "code",
   "execution_count": 19,
   "id": "e0cb1e38",
   "metadata": {},
   "outputs": [
    {
     "data": {
      "text/html": [
       "<div>\n",
       "<style scoped>\n",
       "    .dataframe tbody tr th:only-of-type {\n",
       "        vertical-align: middle;\n",
       "    }\n",
       "\n",
       "    .dataframe tbody tr th {\n",
       "        vertical-align: top;\n",
       "    }\n",
       "\n",
       "    .dataframe thead th {\n",
       "        text-align: right;\n",
       "    }\n",
       "</style>\n",
       "<table border=\"1\" class=\"dataframe\">\n",
       "  <thead>\n",
       "    <tr style=\"text-align: right;\">\n",
       "      <th></th>\n",
       "      <th>Close</th>\n",
       "    </tr>\n",
       "  </thead>\n",
       "  <tbody>\n",
       "    <tr>\n",
       "      <th>0</th>\n",
       "      <td>7.643214</td>\n",
       "    </tr>\n",
       "    <tr>\n",
       "      <th>1</th>\n",
       "      <td>7.656429</td>\n",
       "    </tr>\n",
       "    <tr>\n",
       "      <th>2</th>\n",
       "      <td>7.534643</td>\n",
       "    </tr>\n",
       "    <tr>\n",
       "      <th>3</th>\n",
       "      <td>7.520714</td>\n",
       "    </tr>\n",
       "    <tr>\n",
       "      <th>4</th>\n",
       "      <td>7.570714</td>\n",
       "    </tr>\n",
       "  </tbody>\n",
       "</table>\n",
       "</div>"
      ],
      "text/plain": [
       "      Close\n",
       "0  7.643214\n",
       "1  7.656429\n",
       "2  7.534643\n",
       "3  7.520714\n",
       "4  7.570714"
      ]
     },
     "execution_count": 19,
     "metadata": {},
     "output_type": "execute_result"
    }
   ],
   "source": [
    "data_training.head()"
   ]
  },
  {
   "cell_type": "code",
   "execution_count": 20,
   "id": "94d9dd95",
   "metadata": {},
   "outputs": [
    {
     "data": {
      "text/html": [
       "<div>\n",
       "<style scoped>\n",
       "    .dataframe tbody tr th:only-of-type {\n",
       "        vertical-align: middle;\n",
       "    }\n",
       "\n",
       "    .dataframe tbody tr th {\n",
       "        vertical-align: top;\n",
       "    }\n",
       "\n",
       "    .dataframe thead th {\n",
       "        text-align: right;\n",
       "    }\n",
       "</style>\n",
       "<table border=\"1\" class=\"dataframe\">\n",
       "  <thead>\n",
       "    <tr style=\"text-align: right;\">\n",
       "      <th></th>\n",
       "      <th>Close</th>\n",
       "    </tr>\n",
       "  </thead>\n",
       "  <tbody>\n",
       "    <tr>\n",
       "      <th>2204</th>\n",
       "      <td>56.997501</td>\n",
       "    </tr>\n",
       "    <tr>\n",
       "      <th>2205</th>\n",
       "      <td>56.072498</td>\n",
       "    </tr>\n",
       "    <tr>\n",
       "      <th>2206</th>\n",
       "      <td>55.942501</td>\n",
       "    </tr>\n",
       "    <tr>\n",
       "      <th>2207</th>\n",
       "      <td>56.717499</td>\n",
       "    </tr>\n",
       "    <tr>\n",
       "      <th>2208</th>\n",
       "      <td>54.090000</td>\n",
       "    </tr>\n",
       "  </tbody>\n",
       "</table>\n",
       "</div>"
      ],
      "text/plain": [
       "          Close\n",
       "2204  56.997501\n",
       "2205  56.072498\n",
       "2206  55.942501\n",
       "2207  56.717499\n",
       "2208  54.090000"
      ]
     },
     "execution_count": 20,
     "metadata": {},
     "output_type": "execute_result"
    }
   ],
   "source": [
    "data_testing.head()"
   ]
  },
  {
   "cell_type": "code",
   "execution_count": 21,
   "id": "08ca6ce4",
   "metadata": {},
   "outputs": [],
   "source": [
    "from sklearn.preprocessing import MinMaxScaler\n",
    "scaler= MinMaxScaler(feature_range=(0,1))"
   ]
  },
  {
   "cell_type": "code",
   "execution_count": 22,
   "id": "94003e93",
   "metadata": {},
   "outputs": [
    {
     "data": {
      "text/plain": [
       "array([[0.01533047],\n",
       "       [0.01558878],\n",
       "       [0.01320823],\n",
       "       ...,\n",
       "       [0.97649459],\n",
       "       [0.98636588],\n",
       "       [1.        ]])"
      ]
     },
     "execution_count": 22,
     "metadata": {},
     "output_type": "execute_result"
    }
   ],
   "source": [
    "data_training_array=scaler.fit_transform(data_training)\n",
    "data_training_array"
   ]
  },
  {
   "cell_type": "code",
   "execution_count": 23,
   "id": "8bf6eea8",
   "metadata": {},
   "outputs": [
    {
     "data": {
      "text/plain": [
       "(2204, 1)"
      ]
     },
     "execution_count": 23,
     "metadata": {},
     "output_type": "execute_result"
    }
   ],
   "source": [
    "data_training_array.shape"
   ]
  },
  {
   "cell_type": "code",
   "execution_count": 24,
   "id": "e00bfbeb",
   "metadata": {},
   "outputs": [
    {
     "data": {
      "text/plain": [
       "(2104, 100, 1)"
      ]
     },
     "execution_count": 24,
     "metadata": {},
     "output_type": "execute_result"
    }
   ],
   "source": [
    "x_train =[] \n",
    "y_train =[]\n",
    "\n",
    "for i in range(100, data_training_array.shape[0]):\n",
    "    x_train.append(data_training_array[i-100: i])\n",
    "    y_train.append(data_training_array[i, 0])\n",
    "\n",
    "x_train, y_train = np.array(x_train), np.array(y_train)\n",
    "x_train.shape"
   ]
  },
  {
   "cell_type": "code",
   "execution_count": 26,
   "id": "0cb32e9f",
   "metadata": {},
   "outputs": [],
   "source": [
    "#ML model"
   ]
  },
  {
   "cell_type": "code",
   "execution_count": 28,
   "id": "745afbda",
   "metadata": {},
   "outputs": [],
   "source": [
    "from keras.layers import Dense, Dropout, LSTM\n",
    "from keras.models import Sequential"
   ]
  },
  {
   "cell_type": "code",
   "execution_count": 29,
   "id": "ea2656ba",
   "metadata": {},
   "outputs": [],
   "source": [
    "model=Sequential()\n",
    "\n",
    "model.add(LSTM(units = 50, activation= 'relu'  ,return_sequences= True,\n",
    "               input_shape = (x_train.shape[1],1)))\n",
    "model.add(Dropout(0.2))\n",
    "\n",
    "model.add(LSTM(units=60,activation='relu',return_sequences=True))\n",
    "model.add(Dropout(0.3))\n",
    "\n",
    "model.add(LSTM(units=80,activation='relu',return_sequences=True))\n",
    "model.add(Dropout(0.4))\n",
    "\n",
    "model.add(LSTM(units=120,activation='relu'))\n",
    "model.add(Dropout(0.5))\n",
    "\n",
    "model.add(Dense(units =1))\n"
   ]
  },
  {
   "cell_type": "code",
   "execution_count": 30,
   "id": "ea0c2f43",
   "metadata": {},
   "outputs": [
    {
     "name": "stdout",
     "output_type": "stream",
     "text": [
      "Model: \"sequential_1\"\n",
      "_________________________________________________________________\n",
      " Layer (type)                Output Shape              Param #   \n",
      "=================================================================\n",
      " lstm (LSTM)                 (None, 100, 50)           10400     \n",
      "                                                                 \n",
      " dropout (Dropout)           (None, 100, 50)           0         \n",
      "                                                                 \n",
      " lstm_1 (LSTM)               (None, 100, 60)           26640     \n",
      "                                                                 \n",
      " dropout_1 (Dropout)         (None, 100, 60)           0         \n",
      "                                                                 \n",
      " lstm_2 (LSTM)               (None, 100, 80)           45120     \n",
      "                                                                 \n",
      " dropout_2 (Dropout)         (None, 100, 80)           0         \n",
      "                                                                 \n",
      " lstm_3 (LSTM)               (None, 120)               96480     \n",
      "                                                                 \n",
      " dropout_3 (Dropout)         (None, 120)               0         \n",
      "                                                                 \n",
      " dense (Dense)               (None, 1)                 121       \n",
      "                                                                 \n",
      "=================================================================\n",
      "Total params: 178,761\n",
      "Trainable params: 178,761\n",
      "Non-trainable params: 0\n",
      "_________________________________________________________________\n"
     ]
    }
   ],
   "source": [
    "model.summary()"
   ]
  },
  {
   "cell_type": "code",
   "execution_count": 31,
   "id": "ccb6182a",
   "metadata": {},
   "outputs": [
    {
     "name": "stdout",
     "output_type": "stream",
     "text": [
      "Epoch 1/50\n",
      "66/66 [==============================] - 162s 2s/step - loss: 0.0270\n",
      "Epoch 2/50\n",
      "66/66 [==============================] - 170s 3s/step - loss: 0.0056\n",
      "Epoch 3/50\n",
      "66/66 [==============================] - 189s 3s/step - loss: 0.0050\n",
      "Epoch 4/50\n",
      "66/66 [==============================] - 180s 3s/step - loss: 0.0044\n",
      "Epoch 5/50\n",
      "66/66 [==============================] - 197s 3s/step - loss: 0.0042\n",
      "Epoch 6/50\n",
      "66/66 [==============================] - 212s 3s/step - loss: 0.0039\n",
      "Epoch 7/50\n",
      "66/66 [==============================] - 212s 3s/step - loss: 0.0034\n",
      "Epoch 8/50\n",
      "66/66 [==============================] - 212s 3s/step - loss: 0.0034\n",
      "Epoch 9/50\n",
      "66/66 [==============================] - 211s 3s/step - loss: 0.0039\n",
      "Epoch 10/50\n",
      "66/66 [==============================] - 211s 3s/step - loss: 0.0034\n",
      "Epoch 11/50\n",
      "66/66 [==============================] - 210s 3s/step - loss: 0.0033\n",
      "Epoch 12/50\n",
      "66/66 [==============================] - 211s 3s/step - loss: 0.0027\n",
      "Epoch 13/50\n",
      "66/66 [==============================] - 213s 3s/step - loss: 0.0030\n",
      "Epoch 14/50\n",
      "66/66 [==============================] - 213s 3s/step - loss: 0.0028\n",
      "Epoch 15/50\n",
      "66/66 [==============================] - 204s 3s/step - loss: 0.0025\n",
      "Epoch 16/50\n",
      "66/66 [==============================] - 235s 4s/step - loss: 0.0027\n",
      "Epoch 17/50\n",
      "66/66 [==============================] - 226s 3s/step - loss: 0.0030\n",
      "Epoch 18/50\n",
      "66/66 [==============================] - 213s 3s/step - loss: 0.0027\n",
      "Epoch 19/50\n",
      "66/66 [==============================] - 223s 3s/step - loss: 0.0023\n",
      "Epoch 20/50\n",
      "66/66 [==============================] - 215s 3s/step - loss: 0.0024\n",
      "Epoch 21/50\n",
      "66/66 [==============================] - 220s 3s/step - loss: 0.0023\n",
      "Epoch 22/50\n",
      "66/66 [==============================] - 213s 3s/step - loss: 0.0024\n",
      "Epoch 23/50\n",
      "66/66 [==============================] - 227s 3s/step - loss: 0.0023\n",
      "Epoch 24/50\n",
      "66/66 [==============================] - 214s 3s/step - loss: 0.0019\n",
      "Epoch 25/50\n",
      "66/66 [==============================] - 220s 3s/step - loss: 0.0023\n",
      "Epoch 26/50\n",
      "66/66 [==============================] - 227s 3s/step - loss: 0.0020\n",
      "Epoch 27/50\n",
      "66/66 [==============================] - 222s 3s/step - loss: 0.0019\n",
      "Epoch 28/50\n",
      "66/66 [==============================] - 214s 3s/step - loss: 0.0019\n",
      "Epoch 29/50\n",
      "66/66 [==============================] - 215s 3s/step - loss: 0.0018\n",
      "Epoch 30/50\n",
      "66/66 [==============================] - 214s 3s/step - loss: 0.0016\n",
      "Epoch 31/50\n",
      "66/66 [==============================] - 214s 3s/step - loss: 0.0017\n",
      "Epoch 32/50\n",
      "66/66 [==============================] - 214s 3s/step - loss: 0.0017\n",
      "Epoch 33/50\n",
      "66/66 [==============================] - 207s 3s/step - loss: 0.0017\n",
      "Epoch 34/50\n",
      "66/66 [==============================] - 225s 3s/step - loss: 0.0016\n",
      "Epoch 35/50\n",
      "66/66 [==============================] - 215s 3s/step - loss: 0.0016\n",
      "Epoch 36/50\n",
      "66/66 [==============================] - 214s 3s/step - loss: 0.0019\n",
      "Epoch 37/50\n",
      "66/66 [==============================] - 215s 3s/step - loss: 0.0018\n",
      "Epoch 38/50\n",
      "66/66 [==============================] - 214s 3s/step - loss: 0.0016\n",
      "Epoch 39/50\n",
      "66/66 [==============================] - 214s 3s/step - loss: 0.0016\n",
      "Epoch 40/50\n",
      "66/66 [==============================] - 214s 3s/step - loss: 0.0016\n",
      "Epoch 41/50\n",
      "66/66 [==============================] - 213s 3s/step - loss: 0.0017\n",
      "Epoch 42/50\n",
      "66/66 [==============================] - 203s 3s/step - loss: 0.0016\n",
      "Epoch 43/50\n",
      "66/66 [==============================] - 229s 3s/step - loss: 0.0015\n",
      "Epoch 44/50\n",
      "66/66 [==============================] - 220s 3s/step - loss: 0.0018\n",
      "Epoch 45/50\n",
      "66/66 [==============================] - 214s 3s/step - loss: 0.0016\n",
      "Epoch 46/50\n",
      "66/66 [==============================] - 215s 3s/step - loss: 0.0015\n",
      "Epoch 47/50\n",
      "66/66 [==============================] - 214s 3s/step - loss: 0.0015\n",
      "Epoch 48/50\n",
      "66/66 [==============================] - 219s 3s/step - loss: 0.0016\n",
      "Epoch 49/50\n",
      "66/66 [==============================] - 228s 3s/step - loss: 0.0016\n",
      "Epoch 50/50\n",
      "66/66 [==============================] - 226s 3s/step - loss: 0.0016\n"
     ]
    },
    {
     "data": {
      "text/plain": [
       "<keras.callbacks.History at 0x89c3ca0790>"
      ]
     },
     "execution_count": 31,
     "metadata": {},
     "output_type": "execute_result"
    }
   ],
   "source": [
    "model.compile(optimizer='adam',loss='mean_squared_error')\n",
    "model.fit(x_train,y_train,epochs =50)"
   ]
  },
  {
   "cell_type": "code",
   "execution_count": 32,
   "id": "a99510b4",
   "metadata": {},
   "outputs": [],
   "source": [
    "model.save('keras_model.h5')"
   ]
  },
  {
   "cell_type": "code",
   "execution_count": 33,
   "id": "795818f1",
   "metadata": {},
   "outputs": [
    {
     "data": {
      "text/html": [
       "<div>\n",
       "<style scoped>\n",
       "    .dataframe tbody tr th:only-of-type {\n",
       "        vertical-align: middle;\n",
       "    }\n",
       "\n",
       "    .dataframe tbody tr th {\n",
       "        vertical-align: top;\n",
       "    }\n",
       "\n",
       "    .dataframe thead th {\n",
       "        text-align: right;\n",
       "    }\n",
       "</style>\n",
       "<table border=\"1\" class=\"dataframe\">\n",
       "  <thead>\n",
       "    <tr style=\"text-align: right;\">\n",
       "      <th></th>\n",
       "      <th>Close</th>\n",
       "    </tr>\n",
       "  </thead>\n",
       "  <tbody>\n",
       "    <tr>\n",
       "      <th>2204</th>\n",
       "      <td>56.997501</td>\n",
       "    </tr>\n",
       "    <tr>\n",
       "      <th>2205</th>\n",
       "      <td>56.072498</td>\n",
       "    </tr>\n",
       "    <tr>\n",
       "      <th>2206</th>\n",
       "      <td>55.942501</td>\n",
       "    </tr>\n",
       "    <tr>\n",
       "      <th>2207</th>\n",
       "      <td>56.717499</td>\n",
       "    </tr>\n",
       "    <tr>\n",
       "      <th>2208</th>\n",
       "      <td>54.090000</td>\n",
       "    </tr>\n",
       "  </tbody>\n",
       "</table>\n",
       "</div>"
      ],
      "text/plain": [
       "          Close\n",
       "2204  56.997501\n",
       "2205  56.072498\n",
       "2206  55.942501\n",
       "2207  56.717499\n",
       "2208  54.090000"
      ]
     },
     "execution_count": 33,
     "metadata": {},
     "output_type": "execute_result"
    }
   ],
   "source": [
    "data_testing.head()"
   ]
  },
  {
   "cell_type": "code",
   "execution_count": 34,
   "id": "b1e24e9b",
   "metadata": {},
   "outputs": [
    {
     "data": {
      "text/html": [
       "<div>\n",
       "<style scoped>\n",
       "    .dataframe tbody tr th:only-of-type {\n",
       "        vertical-align: middle;\n",
       "    }\n",
       "\n",
       "    .dataframe tbody tr th {\n",
       "        vertical-align: top;\n",
       "    }\n",
       "\n",
       "    .dataframe thead th {\n",
       "        text-align: right;\n",
       "    }\n",
       "</style>\n",
       "<table border=\"1\" class=\"dataframe\">\n",
       "  <thead>\n",
       "    <tr style=\"text-align: right;\">\n",
       "      <th></th>\n",
       "      <th>Close</th>\n",
       "    </tr>\n",
       "  </thead>\n",
       "  <tbody>\n",
       "    <tr>\n",
       "      <th>3049</th>\n",
       "      <td>168.639999</td>\n",
       "    </tr>\n",
       "    <tr>\n",
       "      <th>3050</th>\n",
       "      <td>168.880005</td>\n",
       "    </tr>\n",
       "    <tr>\n",
       "      <th>3051</th>\n",
       "      <td>172.789993</td>\n",
       "    </tr>\n",
       "    <tr>\n",
       "      <th>3052</th>\n",
       "      <td>172.550003</td>\n",
       "    </tr>\n",
       "    <tr>\n",
       "      <th>3053</th>\n",
       "      <td>168.880005</td>\n",
       "    </tr>\n",
       "    <tr>\n",
       "      <th>...</th>\n",
       "      <td>...</td>\n",
       "    </tr>\n",
       "    <tr>\n",
       "      <th>3144</th>\n",
       "      <td>136.720001</td>\n",
       "    </tr>\n",
       "    <tr>\n",
       "      <th>3145</th>\n",
       "      <td>138.929993</td>\n",
       "    </tr>\n",
       "    <tr>\n",
       "      <th>3146</th>\n",
       "      <td>141.559998</td>\n",
       "    </tr>\n",
       "    <tr>\n",
       "      <th>3147</th>\n",
       "      <td>142.919998</td>\n",
       "    </tr>\n",
       "    <tr>\n",
       "      <th>3148</th>\n",
       "      <td>145.320007</td>\n",
       "    </tr>\n",
       "  </tbody>\n",
       "</table>\n",
       "<p>100 rows × 1 columns</p>\n",
       "</div>"
      ],
      "text/plain": [
       "           Close\n",
       "3049  168.639999\n",
       "3050  168.880005\n",
       "3051  172.789993\n",
       "3052  172.550003\n",
       "3053  168.880005\n",
       "...          ...\n",
       "3144  136.720001\n",
       "3145  138.929993\n",
       "3146  141.559998\n",
       "3147  142.919998\n",
       "3148  145.320007\n",
       "\n",
       "[100 rows x 1 columns]"
      ]
     },
     "execution_count": 34,
     "metadata": {},
     "output_type": "execute_result"
    }
   ],
   "source": [
    "data_testing.tail(100)"
   ]
  },
  {
   "cell_type": "code",
   "execution_count": 35,
   "id": "7a2badb7",
   "metadata": {},
   "outputs": [],
   "source": [
    "past_100_days=data_training.tail(100)"
   ]
  },
  {
   "cell_type": "code",
   "execution_count": 36,
   "id": "f4d0e3d5",
   "metadata": {},
   "outputs": [
    {
     "name": "stderr",
     "output_type": "stream",
     "text": [
      "C:\\Users\\ashu\\AppData\\Local\\Temp\\ipykernel_6252\\3595571042.py:1: FutureWarning: The frame.append method is deprecated and will be removed from pandas in a future version. Use pandas.concat instead.\n",
      "  final_df=past_100_days.append(data_testing,ignore_index=True)\n"
     ]
    }
   ],
   "source": [
    "final_df=past_100_days.append(data_testing,ignore_index=True)"
   ]
  },
  {
   "cell_type": "code",
   "execution_count": 37,
   "id": "1e77dfbb",
   "metadata": {},
   "outputs": [
    {
     "data": {
      "text/html": [
       "<div>\n",
       "<style scoped>\n",
       "    .dataframe tbody tr th:only-of-type {\n",
       "        vertical-align: middle;\n",
       "    }\n",
       "\n",
       "    .dataframe tbody tr th {\n",
       "        vertical-align: top;\n",
       "    }\n",
       "\n",
       "    .dataframe thead th {\n",
       "        text-align: right;\n",
       "    }\n",
       "</style>\n",
       "<table border=\"1\" class=\"dataframe\">\n",
       "  <thead>\n",
       "    <tr style=\"text-align: right;\">\n",
       "      <th></th>\n",
       "      <th>Close</th>\n",
       "    </tr>\n",
       "  </thead>\n",
       "  <tbody>\n",
       "    <tr>\n",
       "      <th>0</th>\n",
       "      <td>47.037498</td>\n",
       "    </tr>\n",
       "    <tr>\n",
       "      <th>1</th>\n",
       "      <td>46.610001</td>\n",
       "    </tr>\n",
       "    <tr>\n",
       "      <th>2</th>\n",
       "      <td>47.044998</td>\n",
       "    </tr>\n",
       "    <tr>\n",
       "      <th>3</th>\n",
       "      <td>46.747501</td>\n",
       "    </tr>\n",
       "    <tr>\n",
       "      <th>4</th>\n",
       "      <td>46.577499</td>\n",
       "    </tr>\n",
       "  </tbody>\n",
       "</table>\n",
       "</div>"
      ],
      "text/plain": [
       "       Close\n",
       "0  47.037498\n",
       "1  46.610001\n",
       "2  47.044998\n",
       "3  46.747501\n",
       "4  46.577499"
      ]
     },
     "execution_count": 37,
     "metadata": {},
     "output_type": "execute_result"
    }
   ],
   "source": [
    "final_df.head()"
   ]
  },
  {
   "cell_type": "code",
   "execution_count": 38,
   "id": "bf5914ab",
   "metadata": {},
   "outputs": [
    {
     "data": {
      "text/plain": [
       "array([[0.0784501 ],\n",
       "       [0.07553128],\n",
       "       [0.07850131],\n",
       "       ...,\n",
       "       [0.7238201 ],\n",
       "       [0.73310576],\n",
       "       [0.74949227]])"
      ]
     },
     "execution_count": 38,
     "metadata": {},
     "output_type": "execute_result"
    }
   ],
   "source": [
    "input_data=scaler.fit_transform(final_df)\n",
    "input_data"
   ]
  },
  {
   "cell_type": "code",
   "execution_count": 39,
   "id": "87937f78",
   "metadata": {},
   "outputs": [
    {
     "data": {
      "text/plain": [
       "(1045, 1)"
      ]
     },
     "execution_count": 39,
     "metadata": {},
     "output_type": "execute_result"
    }
   ],
   "source": [
    "input_data.shape"
   ]
  },
  {
   "cell_type": "code",
   "execution_count": 40,
   "id": "1736a00e",
   "metadata": {},
   "outputs": [],
   "source": [
    "x_test=[]\n",
    "y_test=[]\n",
    "for i in range(100,input_data.shape[0]):\n",
    "    x_test.append(input_data[i-100:i])\n",
    "    y_test.append(input_data[i,0])"
   ]
  },
  {
   "cell_type": "code",
   "execution_count": 41,
   "id": "dd07c0ae",
   "metadata": {},
   "outputs": [
    {
     "name": "stdout",
     "output_type": "stream",
     "text": [
      "(945, 100, 1)\n",
      "(945,)\n"
     ]
    }
   ],
   "source": [
    "x_test,y_test=np.array(x_test),np.array(y_test)\n",
    "print(x_test.shape)\n",
    "print(y_test.shape)"
   ]
  },
  {
   "cell_type": "code",
   "execution_count": 42,
   "id": "3ef7e40f",
   "metadata": {},
   "outputs": [
    {
     "name": "stdout",
     "output_type": "stream",
     "text": [
      "30/30 [==============================] - 33s 558ms/step\n"
     ]
    }
   ],
   "source": [
    "#Making Predictions\n",
    "\n",
    "y_predicted=model.predict(x_test)"
   ]
  },
  {
   "cell_type": "code",
   "execution_count": 43,
   "id": "2b069b70",
   "metadata": {},
   "outputs": [
    {
     "data": {
      "text/plain": [
       "(945, 1)"
      ]
     },
     "execution_count": 43,
     "metadata": {},
     "output_type": "execute_result"
    }
   ],
   "source": [
    "y_predicted.shape"
   ]
  },
  {
   "cell_type": "code",
   "execution_count": 44,
   "id": "65032e0d",
   "metadata": {},
   "outputs": [
    {
     "data": {
      "text/plain": [
       "array([0.14645388, 0.14013825, 0.13925067, 0.14454211, 0.12660237,\n",
       "       0.12334215, 0.13641717, 0.1283093 , 0.13648544, 0.13484681,\n",
       "       0.12602203, 0.13163779, 0.13392506, 0.13747546, 0.12443458,\n",
       "       0.13247419, 0.12649996, 0.11956987, 0.1213792 , 0.13086968,\n",
       "       0.13660494, 0.1114449 , 0.10139113, 0.10511224, 0.115661  ,\n",
       "       0.11316891, 0.10630708, 0.08872578, 0.08541435, 0.07614578,\n",
       "       0.08401469, 0.08763335, 0.07454126, 0.05938379, 0.05904241,\n",
       "       0.05137833, 0.05535546, 0.05470684, 0.06614321, 0.06377059,\n",
       "       0.06211488, 0.07276608, 0.0588888 , 0.05552616, 0.04489204,\n",
       "       0.04678673, 0.04513101, 0.04593327, 0.04909106, 0.03975419,\n",
       "       0.03712555, 0.0407613 , 0.03191943, 0.02498933, 0.0145771 ,\n",
       "       0.00792012, 0.02556968, 0.02382861, 0.02396517, 0.02654264,\n",
       "       0.02684987, 0.        , 0.010361  , 0.00979771, 0.01461125,\n",
       "       0.01898096, 0.01981736, 0.01723989, 0.01333105, 0.01857132,\n",
       "       0.02176325, 0.02333362, 0.02497227, 0.0189639 , 0.02002218,\n",
       "       0.01793974, 0.02657676, 0.02408467, 0.02131943, 0.03936161,\n",
       "       0.04139285, 0.04152941, 0.04960314, 0.05460441, 0.05470684,\n",
       "       0.049074  , 0.04816933, 0.04649653, 0.04898865, 0.04777672,\n",
       "       0.04883503, 0.04818639, 0.04905691, 0.05093454, 0.04927882,\n",
       "       0.05253905, 0.05468976, 0.05486046, 0.05578219, 0.05284628,\n",
       "       0.05595289, 0.05745499, 0.05690876, 0.05518478, 0.05173679,\n",
       "       0.05243663, 0.06266108, 0.06609201, 0.06745755, 0.07090551,\n",
       "       0.07498506, 0.07822822, 0.0756849 , 0.07846719, 0.09029614,\n",
       "       0.08340019, 0.07945721, 0.07612869, 0.07899633, 0.07942306,\n",
       "       0.08152257, 0.08372451, 0.08846975, 0.09073996, 0.09132031,\n",
       "       0.09355637, 0.09884784, 0.09782367, 0.09973542, 0.09688486,\n",
       "       0.09674831, 0.0973628 , 0.09739694, 0.10401981, 0.10526585,\n",
       "       0.10640949, 0.1114449 , 0.1108987 , 0.10768968, 0.1060169 ,\n",
       "       0.10654605, 0.09982077, 0.11663396, 0.11429546, 0.11873346,\n",
       "       0.11315182, 0.10355893, 0.1036272 , 0.09990612, 0.0938636 ,\n",
       "       0.0743023 , 0.07932065, 0.08317828, 0.08174448, 0.079901  ,\n",
       "       0.06981308, 0.0758044 , 0.06928394, 0.06395836, 0.06278058,\n",
       "       0.06151744, 0.06006658, 0.06163694, 0.05612359, 0.05310233,\n",
       "       0.06392421, 0.06887427, 0.07344884, 0.08186395, 0.08601178,\n",
       "       0.08981821, 0.08875993, 0.08869163, 0.08628489, 0.08824784,\n",
       "       0.0960314 , 0.09504138, 0.09775541, 0.09659469, 0.09625331,\n",
       "       0.09111549, 0.09833576, 0.09823335, 0.09512674, 0.10132287,\n",
       "       0.10333702, 0.10620467, 0.10589741, 0.09871128, 0.10079373,\n",
       "       0.10419049, 0.10166425, 0.10430998, 0.10757021, 0.10635828,\n",
       "       0.10439533, 0.10833832, 0.10309806, 0.11100111, 0.11376632,\n",
       "       0.11347614, 0.11065973, 0.11188872, 0.11520012, 0.11366391,\n",
       "       0.12093538, 0.11306647, 0.10553897, 0.08730903, 0.09355637,\n",
       "       0.09703848, 0.10453186, 0.100367  , 0.09949645, 0.11398822,\n",
       "       0.10337117, 0.10164719, 0.10977213, 0.11634379, 0.11636084,\n",
       "       0.12025262, 0.11994539, 0.10318341, 0.10975507, 0.10577794,\n",
       "       0.10811641, 0.11405649, 0.11359564, 0.10840658, 0.11436375,\n",
       "       0.12134505, 0.12131091, 0.12286421, 0.12718272, 0.13894341,\n",
       "       0.13808995, 0.13068192, 0.13264487, 0.13401041, 0.13754375,\n",
       "       0.13445422, 0.12894085, 0.13063071, 0.1288555 , 0.1345737 ,\n",
       "       0.13262781, 0.13080141, 0.13959205, 0.14065033, 0.13104038,\n",
       "       0.13421526, 0.14478108, 0.14486643, 0.14032601, 0.14481523,\n",
       "       0.1500384 , 0.16048478, 0.15990441, 0.15896562, 0.15734402,\n",
       "       0.15889733, 0.16082616, 0.16782452, 0.16688574, 0.172382  ,\n",
       "       0.17306478, 0.17818555, 0.18240165, 0.17256976, 0.17251856,\n",
       "       0.18190663, 0.19395751, 0.19682513, 0.19619358, 0.19638131,\n",
       "       0.20011948, 0.20133143, 0.20484768, 0.20443799, 0.20872238,\n",
       "       0.20559873, 0.21092432, 0.21321159, 0.21182899, 0.20653752,\n",
       "       0.20452336, 0.20413075, 0.21196552, 0.20841514, 0.21447469,\n",
       "       0.21346762, 0.20819323, 0.20015365, 0.20406246, 0.21061703,\n",
       "       0.21937355, 0.21290435, 0.21556715, 0.21947596, 0.22065374,\n",
       "       0.22695229, 0.23499187, 0.23593071, 0.23478705, 0.23526499,\n",
       "       0.23427499, 0.24205855, 0.2425194 , 0.25214647, 0.25195868,\n",
       "       0.25489459, 0.25853034, 0.26996673, 0.2649825 , 0.26902789,\n",
       "       0.26662118, 0.27481438, 0.28580696, 0.28700178, 0.29831868,\n",
       "       0.29101305, 0.28872578, 0.29538277, 0.30133996, 0.297653  ,\n",
       "       0.29958183, 0.30219342, 0.30062303, 0.28464627, 0.29956475,\n",
       "       0.31091577, 0.31011351, 0.28560214, 0.28415125, 0.30154478,\n",
       "       0.30598279, 0.31240078, 0.30355894, 0.30615344, 0.30284201,\n",
       "       0.31579759, 0.31182043, 0.31195702, 0.30180081, 0.30968678,\n",
       "       0.30401979, 0.29164461, 0.26626269, 0.24902277, 0.25682342,\n",
       "       0.22417   , 0.22389688, 0.26733806, 0.25113939, 0.27404625,\n",
       "       0.25728432, 0.25064437, 0.21162416, 0.24434582, 0.22743022,\n",
       "       0.18100196, 0.23176582, 0.17072631, 0.18890501, 0.17833917,\n",
       "       0.17511308, 0.14858753, 0.14027481, 0.17869763, 0.17637622,\n",
       "       0.19842964, 0.18016558, 0.19223351, 0.1913459 , 0.16850731,\n",
       "       0.17536911, 0.16936077, 0.20530853, 0.20011948, 0.21145346,\n",
       "       0.21473072, 0.22370915, 0.24726464, 0.24279252, 0.24665018,\n",
       "       0.24001023, 0.2299906 , 0.21537936, 0.22857388, 0.22674746,\n",
       "       0.24030043, 0.24064183, 0.23280702, 0.24842539, 0.25878636,\n",
       "       0.25071266, 0.25769396, 0.26520441, 0.27044467, 0.27575317,\n",
       "       0.28666042, 0.29499021, 0.28884528, 0.28242724, 0.28565335,\n",
       "       0.28252965, 0.29490483, 0.29179827, 0.30219342, 0.29813094,\n",
       "       0.30161307, 0.29792612, 0.30028163, 0.30052062, 0.29999148,\n",
       "       0.30666555, 0.30920884, 0.31224716, 0.3074678 , 0.32313733,\n",
       "       0.32648288, 0.34445677, 0.35956303, 0.33064778, 0.33559784,\n",
       "       0.34274984, 0.35826576, 0.35742938, 0.35766837, 0.35423745,\n",
       "       0.36985577, 0.38293079, 0.37188701, 0.38004609, 0.36091152,\n",
       "       0.37482292, 0.3799778 , 0.37880002, 0.37880002, 0.39542547,\n",
       "       0.39344544, 0.4082615 , 0.41106088, 0.41220449, 0.40918326,\n",
       "       0.41997101, 0.42452847, 0.41631818, 0.41498678, 0.42884698,\n",
       "       0.4195784 , 0.42143894, 0.39120937, 0.38963898, 0.40462575,\n",
       "       0.39399167, 0.40619614, 0.41404799, 0.4828028 , 0.50108391,\n",
       "       0.50605106, 0.50876506, 0.53498335, 0.51593415, 0.52696085,\n",
       "       0.50407102, 0.52888968, 0.54254505, 0.54184521, 0.53979688,\n",
       "       0.54631734, 0.54730733, 0.56483745, 0.6064522 , 0.61660836,\n",
       "       0.60955876, 0.62114877, 0.61082192, 0.60943932, 0.63833743,\n",
       "       0.67343174, 0.65445078, 0.58262354, 0.58316977, 0.5275924 ,\n",
       "       0.55831699, 0.53216694, 0.5219937 , 0.54493473, 0.54616372,\n",
       "       0.52288128, 0.51065972, 0.48676281, 0.50888456, 0.52069642,\n",
       "       0.48867461, 0.49618506, 0.52390545, 0.54220365, 0.53626354,\n",
       "       0.54800717, 0.55469833, 0.52895792, 0.55271829, 0.52991384,\n",
       "       0.54302299, 0.54227194, 0.55592731, 0.60665703, 0.58412564,\n",
       "       0.58474016, 0.58146285, 0.56992404, 0.54916792, 0.55961427,\n",
       "       0.55524455, 0.54759753, 0.54274988, 0.54281817, 0.55340105,\n",
       "       0.51653153, 0.54466162, 0.50055477, 0.49994025, 0.51134253,\n",
       "       0.54213536, 0.56999233, 0.56767094, 0.55148931, 0.54909963,\n",
       "       0.57313306, 0.57122132, 0.57156272, 0.57866352, 0.5724503 ,\n",
       "       0.56316464, 0.56732954, 0.55845352, 0.53462491, 0.54363746,\n",
       "       0.54950927, 0.55333276, 0.57012891, 0.59518651, 0.59764448,\n",
       "       0.59668861, 0.59197749, 0.60221902, 0.60652044, 0.58876847,\n",
       "       0.59873688, 0.59306994, 0.58876847, 0.63041735, 0.62993941,\n",
       "       0.63601605, 0.62208761, 0.63280703, 0.65772814, 0.65144668,\n",
       "       0.65834261, 0.6905693 , 0.67814286, 0.67029106, 0.66325855,\n",
       "       0.64086375, 0.65178799, 0.62167792, 0.65117352, 0.65888884,\n",
       "       0.63792779, 0.63669886, 0.6509687 , 0.63744991, 0.62536487,\n",
       "       0.63007599, 0.65875226, 0.69179823, 0.70681923, 0.73310576,\n",
       "       0.73474444, 0.72723394, 0.69330033, 0.65827437, 0.67315868,\n",
       "       0.67896225, 0.67179316, 0.69534866, 0.69104718, 0.6920714 ,\n",
       "       0.68592642, 0.68169329, 0.67991813, 0.6815567 , 0.6666724 ,\n",
       "       0.65062729, 0.64291208, 0.64400443, 0.61758131, 0.61662544,\n",
       "       0.61314331, 0.58337459, 0.58521809, 0.62980288, 0.61157297,\n",
       "       0.59068021, 0.57750277, 0.5863105 , 0.55176242, 0.58405735,\n",
       "       0.57647866, 0.58999745, 0.5836477 , 0.60385765, 0.61464541,\n",
       "       0.609115  , 0.58023386, 0.5765469 , 0.59976105, 0.59395752,\n",
       "       0.57722966, 0.5806435 , 0.58487669, 0.58610567, 0.57593244,\n",
       "       0.59129473, 0.59709825, 0.61689856, 0.61901512, 0.63055393,\n",
       "       0.64735003, 0.66537512, 0.65335843, 0.67513866, 0.65875226,\n",
       "       0.67561665, 0.67329526, 0.67793804, 0.66612617, 0.66878896,\n",
       "       0.65813779, 0.67438772, 0.67711875, 0.6748656 , 0.66933519,\n",
       "       0.66865238, 0.65486053, 0.66223434, 0.63021252, 0.6319195 ,\n",
       "       0.6431169 , 0.64632592, 0.62338484, 0.61696685, 0.59552786,\n",
       "       0.6105488 , 0.62748144, 0.61942477, 0.60972946, 0.60863706,\n",
       "       0.62652557, 0.61368953, 0.62509176, 0.62372624, 0.62338484,\n",
       "       0.61266537, 0.60809083, 0.60583768, 0.61116327, 0.60078521,\n",
       "       0.61683026, 0.61689856, 0.62263379, 0.62529658, 0.61833236,\n",
       "       0.62679868, 0.64816932, 0.64243409, 0.64591617, 0.65711357,\n",
       "       0.64803284, 0.66059576, 0.67206622, 0.67015448, 0.6681745 ,\n",
       "       0.66612617, 0.67752839, 0.68811133, 0.6924128 , 0.69452937,\n",
       "       0.71289586, 0.72696088, 0.7443715 , 0.73529067, 0.74805841,\n",
       "       0.74389351, 0.75167707, 0.77564222, 0.77106768, 0.75679784,\n",
       "       0.72989674, 0.75515916, 0.75003839, 0.75959721, 0.77161391,\n",
       "       0.77454987, 0.75939239, 0.74717078, 0.75167707, 0.75317917,\n",
       "       0.75085778, 0.7634207 , 0.76062133, 0.76137238, 0.75509092,\n",
       "       0.75474951, 0.75140401, 0.75317917, 0.77386705, 0.77530091,\n",
       "       0.78909277, 0.78274307, 0.75659302, 0.7589144 , 0.76908769,\n",
       "       0.77946581, 0.77885124, 0.77024839, 0.76464964, 0.77188707,\n",
       "       0.80274814, 0.79394047, 0.79858325, 0.80636681, 0.81080486,\n",
       "       0.82712303, 0.81633527, 0.80923453, 0.77441328, 0.77837335,\n",
       "       0.76860971, 0.77482293, 0.77318424, 0.75454469, 0.73324234,\n",
       "       0.73658784, 0.75311093, 0.75980204, 0.7604165 , 0.74983357,\n",
       "       0.72620983, 0.73249129, 0.72341046, 0.73126225, 0.70729711,\n",
       "       0.72074766, 0.7268243 , 0.73563197, 0.73296917, 0.73235471,\n",
       "       0.72347869, 0.71938215, 0.73884099, 0.7462149 , 0.75789029,\n",
       "       0.77297942, 0.77639327, 0.77789536, 0.77250154, 0.77216013,\n",
       "       0.77680301, 0.77359399, 0.798993  , 0.78008027, 0.77434504,\n",
       "       0.78158237, 0.79161908, 0.78800042, 0.79018522, 0.78444999,\n",
       "       0.7869762 , 0.76724419, 0.76690279, 0.78137755, 0.78144579,\n",
       "       0.78827348, 0.80527445, 0.83517965, 0.8534779 , 0.85668693,\n",
       "       0.85934972, 0.86296839, 0.82794232, 0.85136134, 0.88590942,\n",
       "       0.88229075, 0.87539472, 0.86228557, 0.886046  , 0.92605614,\n",
       "       0.95268418, 0.94913376, 0.98252114, 0.95719048, 0.94756342,\n",
       "       0.98149703, 0.93343006, 0.92578308, 0.9162926 , 0.93841434,\n",
       "       0.95650767, 0.96087739, 0.98852954, 0.98142868, 0.98204326,\n",
       "       0.97398653, 0.96968516, 1.        , 0.98422806, 0.95159173,\n",
       "       0.9316549 , 0.93281559, 0.93295217, 0.95268418, 0.95575662,\n",
       "       0.93295217, 0.93896057, 0.91663401, 0.89225911, 0.88051549,\n",
       "       0.86617741, 0.86078348, 0.84822056, 0.84760609, 0.84439707,\n",
       "       0.92025267, 0.95063586, 0.94947516, 0.95787319, 0.93779977,\n",
       "       0.93431769, 0.92933351, 0.95097726, 0.96087739, 0.93247418,\n",
       "       0.90871386, 0.91035255, 0.93704872, 0.93541014, 0.91035255,\n",
       "       0.89956479, 0.87921831, 0.85020064, 0.86843056, 0.88283698,\n",
       "       0.88468038, 0.87157123, 0.89451226, 0.89225911, 0.87136641,\n",
       "       0.8449433 , 0.8322438 , 0.86986431, 0.83961771, 0.81374072,\n",
       "       0.78567892, 0.81619869, 0.84692328, 0.85395579, 0.87689682,\n",
       "       0.88645564, 0.9099429 , 0.91943338, 0.94578826, 0.95022621,\n",
       "       0.95623461, 0.97917564, 0.97105068, 0.94947516, 0.94742683,\n",
       "       0.97562521, 0.9525476 , 0.9304942 , 0.93261077, 0.91861399,\n",
       "       0.88898185, 0.90202276, 0.92073055, 0.88584107, 0.88433908,\n",
       "       0.9002475 , 0.8990868 , 0.89355639, 0.86194417, 0.86938643,\n",
       "       0.82787408, 0.82630374, 0.87457543, 0.83367755, 0.83579422,\n",
       "       0.84617223, 0.89082536, 0.82766926, 0.83115134, 0.79551081,\n",
       "       0.81223862, 0.75754889, 0.73064779, 0.76171378, 0.75099426,\n",
       "       0.77625679, 0.71876768, 0.6950756 , 0.69671418, 0.73440303,\n",
       "       0.7156269 , 0.71671935, 0.73897757, 0.77898782, 0.77352565,\n",
       "       0.77263812, 0.78970734, 0.74990191, 0.75509092, 0.77263812,\n",
       "       0.76751736, 0.73119401, 0.6935735 , 0.65772814, 0.66373644,\n",
       "       0.68196635, 0.6453017 , 0.65554323, 0.68497055, 0.68142022,\n",
       "       0.70135706, 0.72450291, 0.72450291, 0.69569006, 0.70791158,\n",
       "       0.69077412, 0.70586325, 0.7238201 , 0.73310576, 0.74949227])"
      ]
     },
     "execution_count": 44,
     "metadata": {},
     "output_type": "execute_result"
    }
   ],
   "source": [
    "y_test"
   ]
  },
  {
   "cell_type": "code",
   "execution_count": 45,
   "id": "184043ea",
   "metadata": {},
   "outputs": [
    {
     "data": {
      "text/plain": [
       "array([0.00682769])"
      ]
     },
     "execution_count": 45,
     "metadata": {},
     "output_type": "execute_result"
    }
   ],
   "source": [
    "scaler.scale_"
   ]
  },
  {
   "cell_type": "code",
   "execution_count": 46,
   "id": "4cac7707",
   "metadata": {},
   "outputs": [],
   "source": [
    "scale_factor=1/0.02099517\n",
    "y_predicted=y_predicted*scale_factor\n",
    "y_test=y_test*scale_factor"
   ]
  },
  {
   "cell_type": "code",
   "execution_count": 47,
   "id": "ec948436",
   "metadata": {},
   "outputs": [
    {
     "data": {
      "image/png": "[encoded data removed]",
      "text/plain": [
       "<Figure size 864x432 with 1 Axes>"
      ]
     },
     "metadata": {
      "needs_background": "light"
     },
     "output_type": "display_data"
    }
   ],
   "source": [
    "plt.figure(figsize=(12,6))\n",
    "plt.plot(y_test,'b',label='Original Price')\n",
    "plt.plot(y_predicted,'r',label='Predicted Price')\n",
    "plt.xlabel('Time')\n",
    "plt.ylabel('Price')\n",
    "plt.legend()\n",
    "plt.show()"
   ]
  },
  {
   "cell_type": "code",
   "execution_count": null,
   "id": "b5fff76d",
   "metadata": {},
   "outputs": [],
   "source": []
  },
  {
   "cell_type": "code",
   "execution_count": null,
   "id": "ae00e54a",
   "metadata": {},
   "outputs": [],
   "source": []
  }
 ],
 "metadata": {
  "kernelspec": {
   "display_name": "Python 3 (ipykernel)",
   "language": "python",
   "name": "python3"
  },
  "language_info": {
   "codemirror_mode": {
    "name": "ipython",
    "version": 3
   },
   "file_extension": ".py",
   "mimetype": "text/x-python",
   "name": "python",
   "nbconvert_exporter": "python",
   "pygments_lexer": "ipython3",
   "version": "3.10.5"
  }
 },
 "nbformat": 4,
 "nbformat_minor": 5
}
